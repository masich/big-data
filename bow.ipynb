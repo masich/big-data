{
 "cells": [
  {
   "cell_type": "code",
   "execution_count": 148,
   "metadata": {},
   "outputs": [],
   "source": [
    "import re\n",
    "from collections import Counter\n",
    "from functools import reduce\n",
    "from math import log10\n",
    "from operator import or_\n",
    "from typing import List, Dict, Iterable\n",
    "\n",
    "import nltk\n",
    "import pandas as pd\n",
    "from IPython.display import display\n",
    "from nltk.tokenize import word_tokenize"
   ]
  },
  {
   "cell_type": "markdown",
   "metadata": {
    "pycharm": {
     "name": "#%% md\n"
    }
   },
   "source": [
    "Download additional nltk components."
   ]
  },
  {
   "cell_type": "code",
   "execution_count": 149,
   "outputs": [
    {
     "name": "stderr",
     "output_type": "stream",
     "text": [
      "[nltk_data] Downloading package punkt to /Users/max-\n",
      "[nltk_data]     omelchenko/nltk_data...\n",
      "[nltk_data]   Package punkt is already up-to-date!\n",
      "[nltk_data] Downloading package stopwords to /Users/max-\n",
      "[nltk_data]     omelchenko/nltk_data...\n",
      "[nltk_data]   Package stopwords is already up-to-date!\n"
     ]
    },
    {
     "data": {
      "text/plain": "True"
     },
     "execution_count": 149,
     "metadata": {},
     "output_type": "execute_result"
    }
   ],
   "source": [
    "nltk.download('punkt')\n",
    "nltk.download('stopwords')"
   ],
   "metadata": {
    "collapsed": false,
    "pycharm": {
     "name": "#%%\n"
    }
   }
  },
  {
   "cell_type": "markdown",
   "metadata": {
    "pycharm": {
     "name": "#%% md\n"
    }
   },
   "source": [
    "Construct stopwords list."
   ]
  },
  {
   "cell_type": "code",
   "execution_count": 150,
   "outputs": [],
   "source": [
    "language = 'english'\n",
    "stopwords = nltk.corpus.stopwords.words(language)\n",
    "stopwords.append('the')\n",
    "stopwords = set(stopwords)"
   ],
   "metadata": {
    "collapsed": false,
    "pycharm": {
     "name": "#%%\n"
    }
   }
  },
  {
   "cell_type": "markdown",
   "metadata": {
    "pycharm": {
     "name": "#%% md\n"
    }
   },
   "source": [
    "Preprocess articles."
   ]
  },
  {
   "cell_type": "code",
   "execution_count": 151,
   "outputs": [],
   "source": [
    "file_paths = (\n",
    "    'data/articles/20th.txt',        # Ken kesey one flew over the cuckoo's nest\n",
    "    'data/articles/19th.txt',        # Oliver Twist Charles Dickens\n",
    "    'data/articles/article1.txt',    # Types of Ecology    #article\n",
    "    'data/articles/scientific.txt',  # Euler characteristic\n",
    "    'data/articles/article2.txt',    # A Comprehensive Guide To Jenkins Pipeline  #otherArticle\n",
    ")\n",
    "\n",
    "articles = []\n",
    "word = re.compile(r'[^A-Za-z]')\n",
    "\n",
    "for file_path in file_paths:\n",
    "    with open(file_path, 'r') as file:\n",
    "        article = file.read()\n",
    "\n",
    "        # Left only words in lower case.\n",
    "        article = word.sub(' ', article).lower()\n",
    "        articles.append(article)"
   ],
   "metadata": {
    "collapsed": false,
    "pycharm": {
     "name": "#%%\n"
    }
   }
  },
  {
   "cell_type": "markdown",
   "metadata": {
    "pycharm": {
     "name": "#%% md\n"
    }
   },
   "source": [
    "Split articles texts into tokens (words)."
   ]
  },
  {
   "cell_type": "code",
   "execution_count": 152,
   "outputs": [],
   "source": [
    "tokenized_articles = list(map(lambda text: word_tokenize(text, language=language, preserve_line=True), articles))"
   ],
   "metadata": {
    "collapsed": false,
    "pycharm": {
     "name": "#%%\n"
    }
   }
  },
  {
   "cell_type": "markdown",
   "metadata": {
    "pycharm": {
     "name": "#%% md\n"
    }
   },
   "source": [
    "Remove stopwords from tokenized texts."
   ]
  },
  {
   "cell_type": "code",
   "execution_count": 153,
   "outputs": [],
   "source": [
    "def remove_stop_words(_tokenized_text: List[str]) -> List[str]:\n",
    "    _text = _tokenized_text.copy()\n",
    "    for token in _tokenized_text:\n",
    "        if token in stopwords:\n",
    "            _text.remove(token)\n",
    "\n",
    "    return _text"
   ],
   "metadata": {
    "collapsed": false,
    "pycharm": {
     "name": "#%%\n"
    }
   }
  },
  {
   "cell_type": "code",
   "execution_count": 154,
   "metadata": {},
   "outputs": [],
   "source": [
    "tokenized_articles = list(map(remove_stop_words, tokenized_articles))"
   ]
  },
  {
   "cell_type": "markdown",
   "metadata": {
    "pycharm": {
     "name": "#%% md\n"
    }
   },
   "source": [
    "Create common word set of all words in all articles."
   ]
  },
  {
   "cell_type": "code",
   "execution_count": 155,
   "outputs": [],
   "source": [
    "words = reduce(or_, map(set, tokenized_articles))"
   ],
   "metadata": {
    "collapsed": false,
    "pycharm": {
     "name": "#%%\n"
    }
   }
  },
  {
   "cell_type": "markdown",
   "metadata": {
    "pycharm": {
     "name": "#%% md\n"
    }
   },
   "source": [
    "Create a mapping *word* : *how many times is used* for all articles."
   ]
  },
  {
   "cell_type": "code",
   "execution_count": 156,
   "outputs": [],
   "source": [
    "words_count_zero = dict.fromkeys(words, 0)\n",
    "words_count_articles = [words_count_zero.copy() for i in range(len(tokenized_articles))]\n",
    "for _words_count_article, _tokenized_article in zip(words_count_articles, tokenized_articles):\n",
    "    _words_count_article.update(Counter(_tokenized_article))"
   ],
   "metadata": {
    "collapsed": false,
    "pycharm": {
     "name": "#%%\n"
    }
   }
  },
  {
   "cell_type": "code",
   "execution_count": 157,
   "metadata": {},
   "outputs": [
    {
     "data": {
      "text/plain": "   anybody  clean  behind  stuck  hours  depend  anxious  cedar  imprinted  \\\n0        1      2       5      0      1       0        0      3          0   \n1        0      0       0      0      0       0        1      0          1   \n2        0      1       0      1      0       0        0      0          0   \n3        0      0       0      0      0       1        0      0          0   \n4        0      0       0      0      0       0        0      0          0   \n\n   cork  ...  many  pausing  broom  attending  e  took  said  involved  yet  \\\n0     0  ...     0        0      4          0  0     1     0         0    0   \n1     1  ...     1        1      0          1  0     0     5         0    1   \n2     0  ...     1        0      0          0  0     0     0         1    0   \n3     0  ...     0        0      0          0  4     0     0         0    0   \n4     0  ...     0        0      0          0  0     0     0         0    0   \n\n   waiting  \n0        1  \n1        0  \n2        0  \n3        0  \n4        0  \n\n[5 rows x 1331 columns]",
      "text/html": "<div>\n<style scoped>\n    .dataframe tbody tr th:only-of-type {\n        vertical-align: middle;\n    }\n\n    .dataframe tbody tr th {\n        vertical-align: top;\n    }\n\n    .dataframe thead th {\n        text-align: right;\n    }\n</style>\n<table border=\"1\" class=\"dataframe\">\n  <thead>\n    <tr style=\"text-align: right;\">\n      <th></th>\n      <th>anybody</th>\n      <th>clean</th>\n      <th>behind</th>\n      <th>stuck</th>\n      <th>hours</th>\n      <th>depend</th>\n      <th>anxious</th>\n      <th>cedar</th>\n      <th>imprinted</th>\n      <th>cork</th>\n      <th>...</th>\n      <th>many</th>\n      <th>pausing</th>\n      <th>broom</th>\n      <th>attending</th>\n      <th>e</th>\n      <th>took</th>\n      <th>said</th>\n      <th>involved</th>\n      <th>yet</th>\n      <th>waiting</th>\n    </tr>\n  </thead>\n  <tbody>\n    <tr>\n      <th>0</th>\n      <td>1</td>\n      <td>2</td>\n      <td>5</td>\n      <td>0</td>\n      <td>1</td>\n      <td>0</td>\n      <td>0</td>\n      <td>3</td>\n      <td>0</td>\n      <td>0</td>\n      <td>...</td>\n      <td>0</td>\n      <td>0</td>\n      <td>4</td>\n      <td>0</td>\n      <td>0</td>\n      <td>1</td>\n      <td>0</td>\n      <td>0</td>\n      <td>0</td>\n      <td>1</td>\n    </tr>\n    <tr>\n      <th>1</th>\n      <td>0</td>\n      <td>0</td>\n      <td>0</td>\n      <td>0</td>\n      <td>0</td>\n      <td>0</td>\n      <td>1</td>\n      <td>0</td>\n      <td>1</td>\n      <td>1</td>\n      <td>...</td>\n      <td>1</td>\n      <td>1</td>\n      <td>0</td>\n      <td>1</td>\n      <td>0</td>\n      <td>0</td>\n      <td>5</td>\n      <td>0</td>\n      <td>1</td>\n      <td>0</td>\n    </tr>\n    <tr>\n      <th>2</th>\n      <td>0</td>\n      <td>1</td>\n      <td>0</td>\n      <td>1</td>\n      <td>0</td>\n      <td>0</td>\n      <td>0</td>\n      <td>0</td>\n      <td>0</td>\n      <td>0</td>\n      <td>...</td>\n      <td>1</td>\n      <td>0</td>\n      <td>0</td>\n      <td>0</td>\n      <td>0</td>\n      <td>0</td>\n      <td>0</td>\n      <td>1</td>\n      <td>0</td>\n      <td>0</td>\n    </tr>\n    <tr>\n      <th>3</th>\n      <td>0</td>\n      <td>0</td>\n      <td>0</td>\n      <td>0</td>\n      <td>0</td>\n      <td>1</td>\n      <td>0</td>\n      <td>0</td>\n      <td>0</td>\n      <td>0</td>\n      <td>...</td>\n      <td>0</td>\n      <td>0</td>\n      <td>0</td>\n      <td>0</td>\n      <td>4</td>\n      <td>0</td>\n      <td>0</td>\n      <td>0</td>\n      <td>0</td>\n      <td>0</td>\n    </tr>\n    <tr>\n      <th>4</th>\n      <td>0</td>\n      <td>0</td>\n      <td>0</td>\n      <td>0</td>\n      <td>0</td>\n      <td>0</td>\n      <td>0</td>\n      <td>0</td>\n      <td>0</td>\n      <td>0</td>\n      <td>...</td>\n      <td>0</td>\n      <td>0</td>\n      <td>0</td>\n      <td>0</td>\n      <td>0</td>\n      <td>0</td>\n      <td>0</td>\n      <td>0</td>\n      <td>0</td>\n      <td>0</td>\n    </tr>\n  </tbody>\n</table>\n<p>5 rows × 1331 columns</p>\n</div>"
     },
     "execution_count": 157,
     "metadata": {},
     "output_type": "execute_result"
    }
   ],
   "source": [
    "pd.DataFrame(words_count_articles)"
   ]
  },
  {
   "cell_type": "markdown",
   "metadata": {
    "pycharm": {
     "name": "#%% md\n"
    }
   },
   "source": [
    "Calculate term frequency (TF)."
   ]
  },
  {
   "cell_type": "code",
   "execution_count": 158,
   "outputs": [],
   "source": [
    "def compute_tf(_words_count_article: Dict[str, int], _bow: List[str]) -> Dict[str, int]:\n",
    "    _tf = {}\n",
    "    bow_len = len(_bow)\n",
    "    for _word, _count in _words_count_article.items():\n",
    "        _tf[_word] = _count / bow_len\n",
    "    return _tf"
   ],
   "metadata": {
    "collapsed": false,
    "pycharm": {
     "name": "#%%\n"
    }
   }
  },
  {
   "cell_type": "code",
   "execution_count": 159,
   "metadata": {},
   "outputs": [],
   "source": [
    "# for more precise results use TF-IDF Model\n",
    "\n",
    "tf_bows = list(map(lambda zipped: compute_tf(*zipped), zip(words_count_articles, tokenized_articles)))\n"
   ]
  },
  {
   "cell_type": "markdown",
   "metadata": {
    "pycharm": {
     "name": "#%% md\n"
    }
   },
   "source": [
    "Calculate an Inverse Document Frequency (IDF).\n",
    "\n",
    "IDF is a measure of how important a term is. We need the IDF value because computing just the TF alone is not sufficient to understand the importance of words."
   ]
  },
  {
   "cell_type": "code",
   "execution_count": 160,
   "outputs": [],
   "source": [
    "def compute_idf(_all_words: Iterable[str], _words_counts: List[Dict[str, int]]) -> Dict[str, int]:\n",
    "    _n = len(_words_counts)\n",
    "    \n",
    "    _idfs = dict.fromkeys(_all_words, 0)\n",
    "    for _words_count in _words_counts:\n",
    "        for _word, _count in _words_count.items():\n",
    "            if _count > 0:\n",
    "                _idfs[_word] += 1\n",
    "    \n",
    "    for _word, _val in _idfs.items():\n",
    "        if _val != 0:\n",
    "            _idfs[_word] = log10(_n / _val)\n",
    "        \n",
    "    return _idfs"
   ],
   "metadata": {
    "collapsed": false,
    "pycharm": {
     "name": "#%%\n"
    }
   }
  },
  {
   "cell_type": "code",
   "execution_count": 161,
   "metadata": {},
   "outputs": [],
   "source": [
    "idfs = compute_idf(words, words_count_articles)"
   ]
  },
  {
   "cell_type": "markdown",
   "metadata": {
    "pycharm": {
     "name": "#%% md\n"
    }
   },
   "source": [
    "Calculate TF-IDF score for each word.\n",
    "\n",
    "Words with a higher score are more important, and those with a lower score are less important."
   ]
  },
  {
   "cell_type": "code",
   "execution_count": 162,
   "outputs": [],
   "source": [
    "def compute_tfidf(_tf_bow: Dict[str, int], _idfs: Dict[str, int]) -> Dict[str, int]:\n",
    "    _tf_idf = {}\n",
    "    for _word, _val in _tf_bow.items():\n",
    "        _tf_idf[_word] = _val * _idfs[_word]\n",
    "    return _tf_idf"
   ],
   "metadata": {
    "collapsed": false,
    "pycharm": {
     "name": "#%%\n"
    }
   }
  },
  {
   "cell_type": "code",
   "execution_count": 163,
   "metadata": {},
   "outputs": [],
   "source": [
    "tf_idf_bows = list(map(lambda _tf_bow: compute_tfidf(_tf_bow, idfs), tf_bows))"
   ]
  },
  {
   "cell_type": "markdown",
   "metadata": {
    "pycharm": {
     "name": "#%% md\n"
    }
   },
   "source": [
    "Display the most valuable words for every article."
   ]
  },
  {
   "cell_type": "code",
   "execution_count": 164,
   "outputs": [
    {
     "data": {
      "text/plain": "'19th'"
     },
     "metadata": {},
     "output_type": "display_data"
    },
    {
     "data": {
      "text/plain": "                like     black       got    around      boys       mop  \\\n19th        0.009446  0.007556  0.005667  0.005667  0.005038  0.005038   \n20th        0.000000  0.000000  0.000000  0.000000  0.000000  0.000000   \narticle1    0.000000  0.000000  0.000000  0.000000  0.000000  0.000000   \nscientific  0.000000  0.000000  0.000000  0.000000  0.000000  0.000000   \narticle2    0.000000  0.000000  0.000000  0.000000  0.000000  0.000000   \n\n                hear      hold      room     still  ...      main      held  \\\n19th        0.005038  0.004408  0.004408  0.004408  ...  0.000000  0.000000   \n20th        0.000000  0.000000  0.000000  0.000000  ...  0.000000  0.000000   \narticle1    0.000000  0.000000  0.000000  0.000000  ...  0.002796  0.002796   \nscientific  0.000000  0.000000  0.000000  0.000000  ...  0.000000  0.000000   \narticle2    0.000000  0.000000  0.000000  0.000000  ...  0.000000  0.000000   \n\n            purchasing     areas  diversity    drudge    solids      show  \\\n19th          0.000000  0.000000   0.000000  0.000000  0.000000  0.000000   \n20th          0.000000  0.000000   0.000000  0.001311  0.000000  0.000000   \narticle1      0.002796  0.002796   0.002796  0.000000  0.000000  0.000000   \nscientific    0.000000  0.000000   0.000000  0.000000  0.003738  0.003738   \narticle2      0.000000  0.000000   0.000000  0.000000  0.000000  0.000000   \n\n            polyhedron  contents  \n19th          0.000000  0.000000  \n20th          0.000000  0.001311  \narticle1      0.000000  0.000000  \nscientific    0.003738  0.000000  \narticle2      0.000000  0.000000  \n\n[5 rows x 1331 columns]",
      "text/html": "<div>\n<style scoped>\n    .dataframe tbody tr th:only-of-type {\n        vertical-align: middle;\n    }\n\n    .dataframe tbody tr th {\n        vertical-align: top;\n    }\n\n    .dataframe thead th {\n        text-align: right;\n    }\n</style>\n<table border=\"1\" class=\"dataframe\">\n  <thead>\n    <tr style=\"text-align: right;\">\n      <th></th>\n      <th>like</th>\n      <th>black</th>\n      <th>got</th>\n      <th>around</th>\n      <th>boys</th>\n      <th>mop</th>\n      <th>hear</th>\n      <th>hold</th>\n      <th>room</th>\n      <th>still</th>\n      <th>...</th>\n      <th>main</th>\n      <th>held</th>\n      <th>purchasing</th>\n      <th>areas</th>\n      <th>diversity</th>\n      <th>drudge</th>\n      <th>solids</th>\n      <th>show</th>\n      <th>polyhedron</th>\n      <th>contents</th>\n    </tr>\n  </thead>\n  <tbody>\n    <tr>\n      <th>19th</th>\n      <td>0.009446</td>\n      <td>0.007556</td>\n      <td>0.005667</td>\n      <td>0.005667</td>\n      <td>0.005038</td>\n      <td>0.005038</td>\n      <td>0.005038</td>\n      <td>0.004408</td>\n      <td>0.004408</td>\n      <td>0.004408</td>\n      <td>...</td>\n      <td>0.000000</td>\n      <td>0.000000</td>\n      <td>0.000000</td>\n      <td>0.000000</td>\n      <td>0.000000</td>\n      <td>0.000000</td>\n      <td>0.000000</td>\n      <td>0.000000</td>\n      <td>0.000000</td>\n      <td>0.000000</td>\n    </tr>\n    <tr>\n      <th>20th</th>\n      <td>0.000000</td>\n      <td>0.000000</td>\n      <td>0.000000</td>\n      <td>0.000000</td>\n      <td>0.000000</td>\n      <td>0.000000</td>\n      <td>0.000000</td>\n      <td>0.000000</td>\n      <td>0.000000</td>\n      <td>0.000000</td>\n      <td>...</td>\n      <td>0.000000</td>\n      <td>0.000000</td>\n      <td>0.000000</td>\n      <td>0.000000</td>\n      <td>0.000000</td>\n      <td>0.001311</td>\n      <td>0.000000</td>\n      <td>0.000000</td>\n      <td>0.000000</td>\n      <td>0.001311</td>\n    </tr>\n    <tr>\n      <th>article1</th>\n      <td>0.000000</td>\n      <td>0.000000</td>\n      <td>0.000000</td>\n      <td>0.000000</td>\n      <td>0.000000</td>\n      <td>0.000000</td>\n      <td>0.000000</td>\n      <td>0.000000</td>\n      <td>0.000000</td>\n      <td>0.000000</td>\n      <td>...</td>\n      <td>0.002796</td>\n      <td>0.002796</td>\n      <td>0.002796</td>\n      <td>0.002796</td>\n      <td>0.002796</td>\n      <td>0.000000</td>\n      <td>0.000000</td>\n      <td>0.000000</td>\n      <td>0.000000</td>\n      <td>0.000000</td>\n    </tr>\n    <tr>\n      <th>scientific</th>\n      <td>0.000000</td>\n      <td>0.000000</td>\n      <td>0.000000</td>\n      <td>0.000000</td>\n      <td>0.000000</td>\n      <td>0.000000</td>\n      <td>0.000000</td>\n      <td>0.000000</td>\n      <td>0.000000</td>\n      <td>0.000000</td>\n      <td>...</td>\n      <td>0.000000</td>\n      <td>0.000000</td>\n      <td>0.000000</td>\n      <td>0.000000</td>\n      <td>0.000000</td>\n      <td>0.000000</td>\n      <td>0.003738</td>\n      <td>0.003738</td>\n      <td>0.003738</td>\n      <td>0.000000</td>\n    </tr>\n    <tr>\n      <th>article2</th>\n      <td>0.000000</td>\n      <td>0.000000</td>\n      <td>0.000000</td>\n      <td>0.000000</td>\n      <td>0.000000</td>\n      <td>0.000000</td>\n      <td>0.000000</td>\n      <td>0.000000</td>\n      <td>0.000000</td>\n      <td>0.000000</td>\n      <td>...</td>\n      <td>0.000000</td>\n      <td>0.000000</td>\n      <td>0.000000</td>\n      <td>0.000000</td>\n      <td>0.000000</td>\n      <td>0.000000</td>\n      <td>0.000000</td>\n      <td>0.000000</td>\n      <td>0.000000</td>\n      <td>0.000000</td>\n    </tr>\n  </tbody>\n</table>\n<p>5 rows × 1331 columns</p>\n</div>"
     },
     "metadata": {},
     "output_type": "display_data"
    },
    {
     "data": {
      "text/plain": "'20th'"
     },
     "metadata": {},
     "output_type": "display_data"
    },
    {
     "data": {
      "text/plain": "              oliver  surgeon    child      dear      said  workhouse  \\\n19th        0.000000  0.00000  0.00000  0.000000  0.000000   0.000000   \n20th        0.011802  0.00918  0.00918  0.007868  0.006557   0.006557   \narticle1    0.000000  0.00000  0.00000  0.000000  0.000000   0.000000   \nscientific  0.000000  0.00000  0.00000  0.000000  0.000000   0.000000   \narticle2    0.000000  0.00000  0.00000  0.000000  0.000000   0.000000   \n\n               young    parish     twist      name  ...    monday  equipment  \\\n19th        0.000000  0.000000  0.000000  0.000000  ...  0.001889   0.001259   \n20th        0.005246  0.005246  0.003934  0.003934  ...  0.000000   0.000000   \narticle1    0.000000  0.000000  0.000000  0.000000  ...  0.000000   0.000000   \nscientific  0.000000  0.000000  0.000000  0.000000  ...  0.000000   0.000000   \narticle2    0.000000  0.000000  0.000000  0.000000  ...  0.000000   0.000000   \n\n            connected   carried  finally    blend   furious    mouth   ground  \\\n19th         0.000000  0.000000  0.00063  0.00063  0.001259  0.00063  0.00063   \n20th         0.000000  0.000000  0.00000  0.00000  0.000000  0.00000  0.00000   \narticle1     0.000000  0.000000  0.00000  0.00000  0.000000  0.00000  0.00000   \nscientific   0.003738  0.000000  0.00000  0.00000  0.000000  0.00000  0.00000   \narticle2     0.000000  0.002262  0.00000  0.00000  0.000000  0.00000  0.00000   \n\n            waiting  \n19th        0.00063  \n20th        0.00000  \narticle1    0.00000  \nscientific  0.00000  \narticle2    0.00000  \n\n[5 rows x 1331 columns]",
      "text/html": "<div>\n<style scoped>\n    .dataframe tbody tr th:only-of-type {\n        vertical-align: middle;\n    }\n\n    .dataframe tbody tr th {\n        vertical-align: top;\n    }\n\n    .dataframe thead th {\n        text-align: right;\n    }\n</style>\n<table border=\"1\" class=\"dataframe\">\n  <thead>\n    <tr style=\"text-align: right;\">\n      <th></th>\n      <th>oliver</th>\n      <th>surgeon</th>\n      <th>child</th>\n      <th>dear</th>\n      <th>said</th>\n      <th>workhouse</th>\n      <th>young</th>\n      <th>parish</th>\n      <th>twist</th>\n      <th>name</th>\n      <th>...</th>\n      <th>monday</th>\n      <th>equipment</th>\n      <th>connected</th>\n      <th>carried</th>\n      <th>finally</th>\n      <th>blend</th>\n      <th>furious</th>\n      <th>mouth</th>\n      <th>ground</th>\n      <th>waiting</th>\n    </tr>\n  </thead>\n  <tbody>\n    <tr>\n      <th>19th</th>\n      <td>0.000000</td>\n      <td>0.00000</td>\n      <td>0.00000</td>\n      <td>0.000000</td>\n      <td>0.000000</td>\n      <td>0.000000</td>\n      <td>0.000000</td>\n      <td>0.000000</td>\n      <td>0.000000</td>\n      <td>0.000000</td>\n      <td>...</td>\n      <td>0.001889</td>\n      <td>0.001259</td>\n      <td>0.000000</td>\n      <td>0.000000</td>\n      <td>0.00063</td>\n      <td>0.00063</td>\n      <td>0.001259</td>\n      <td>0.00063</td>\n      <td>0.00063</td>\n      <td>0.00063</td>\n    </tr>\n    <tr>\n      <th>20th</th>\n      <td>0.011802</td>\n      <td>0.00918</td>\n      <td>0.00918</td>\n      <td>0.007868</td>\n      <td>0.006557</td>\n      <td>0.006557</td>\n      <td>0.005246</td>\n      <td>0.005246</td>\n      <td>0.003934</td>\n      <td>0.003934</td>\n      <td>...</td>\n      <td>0.000000</td>\n      <td>0.000000</td>\n      <td>0.000000</td>\n      <td>0.000000</td>\n      <td>0.00000</td>\n      <td>0.00000</td>\n      <td>0.000000</td>\n      <td>0.00000</td>\n      <td>0.00000</td>\n      <td>0.00000</td>\n    </tr>\n    <tr>\n      <th>article1</th>\n      <td>0.000000</td>\n      <td>0.00000</td>\n      <td>0.00000</td>\n      <td>0.000000</td>\n      <td>0.000000</td>\n      <td>0.000000</td>\n      <td>0.000000</td>\n      <td>0.000000</td>\n      <td>0.000000</td>\n      <td>0.000000</td>\n      <td>...</td>\n      <td>0.000000</td>\n      <td>0.000000</td>\n      <td>0.000000</td>\n      <td>0.000000</td>\n      <td>0.00000</td>\n      <td>0.00000</td>\n      <td>0.000000</td>\n      <td>0.00000</td>\n      <td>0.00000</td>\n      <td>0.00000</td>\n    </tr>\n    <tr>\n      <th>scientific</th>\n      <td>0.000000</td>\n      <td>0.00000</td>\n      <td>0.00000</td>\n      <td>0.000000</td>\n      <td>0.000000</td>\n      <td>0.000000</td>\n      <td>0.000000</td>\n      <td>0.000000</td>\n      <td>0.000000</td>\n      <td>0.000000</td>\n      <td>...</td>\n      <td>0.000000</td>\n      <td>0.000000</td>\n      <td>0.003738</td>\n      <td>0.000000</td>\n      <td>0.00000</td>\n      <td>0.00000</td>\n      <td>0.000000</td>\n      <td>0.00000</td>\n      <td>0.00000</td>\n      <td>0.00000</td>\n    </tr>\n    <tr>\n      <th>article2</th>\n      <td>0.000000</td>\n      <td>0.00000</td>\n      <td>0.00000</td>\n      <td>0.000000</td>\n      <td>0.000000</td>\n      <td>0.000000</td>\n      <td>0.000000</td>\n      <td>0.000000</td>\n      <td>0.000000</td>\n      <td>0.000000</td>\n      <td>...</td>\n      <td>0.000000</td>\n      <td>0.000000</td>\n      <td>0.000000</td>\n      <td>0.002262</td>\n      <td>0.00000</td>\n      <td>0.00000</td>\n      <td>0.000000</td>\n      <td>0.00000</td>\n      <td>0.00000</td>\n      <td>0.00000</td>\n    </tr>\n  </tbody>\n</table>\n<p>5 rows × 1331 columns</p>\n</div>"
     },
     "metadata": {},
     "output_type": "display_data"
    },
    {
     "data": {
      "text/plain": "'article1'"
     },
     "metadata": {},
     "output_type": "display_data"
    },
    {
     "data": {
      "text/plain": "            wildlife   animals      wild  conservation  everyone     trash  \\\n19th        0.000000  0.000000  0.000000      0.000000  0.000000  0.000000   \n20th        0.000000  0.000000  0.000000      0.000000  0.000000  0.000000   \narticle1    0.027959  0.016775  0.011184      0.011184  0.008388  0.008388   \nscientific  0.000000  0.000000  0.000000      0.000000  0.000000  0.000000   \narticle2    0.000000  0.000000  0.000000      0.000000  0.000000  0.000000   \n\n                ways  organization      zoos  trafficking  ...   orange  \\\n19th        0.000000      0.000000  0.000000     0.000000  ...  0.00063   \n20th        0.000000      0.000000  0.000000     0.000000  ...  0.00000   \narticle1    0.008388      0.008388  0.008388     0.008388  ...  0.00000   \nscientific  0.000000      0.000000  0.000000     0.000000  ...  0.00000   \narticle2    0.000000      0.000000  0.000000     0.000000  ...  0.00000   \n\n            popularity   figures      hand   survive     real    noise  \\\n19th          0.000000  0.000000  0.000717  0.000000  0.00063  0.00063   \n20th          0.000000  0.000000  0.001493  0.001311  0.00000  0.00000   \narticle1      0.000000  0.000000  0.000000  0.000000  0.00000  0.00000   \nscientific    0.000000  0.011213  0.000000  0.000000  0.00000  0.00000   \narticle2      0.004524  0.000000  0.000000  0.000000  0.00000  0.00000   \n\n              extant  standing  waiting  \n19th        0.000000  0.001259  0.00063  \n20th        0.001311  0.000000  0.00000  \narticle1    0.000000  0.000000  0.00000  \nscientific  0.000000  0.000000  0.00000  \narticle2    0.000000  0.000000  0.00000  \n\n[5 rows x 1331 columns]",
      "text/html": "<div>\n<style scoped>\n    .dataframe tbody tr th:only-of-type {\n        vertical-align: middle;\n    }\n\n    .dataframe tbody tr th {\n        vertical-align: top;\n    }\n\n    .dataframe thead th {\n        text-align: right;\n    }\n</style>\n<table border=\"1\" class=\"dataframe\">\n  <thead>\n    <tr style=\"text-align: right;\">\n      <th></th>\n      <th>wildlife</th>\n      <th>animals</th>\n      <th>wild</th>\n      <th>conservation</th>\n      <th>everyone</th>\n      <th>trash</th>\n      <th>ways</th>\n      <th>organization</th>\n      <th>zoos</th>\n      <th>trafficking</th>\n      <th>...</th>\n      <th>orange</th>\n      <th>popularity</th>\n      <th>figures</th>\n      <th>hand</th>\n      <th>survive</th>\n      <th>real</th>\n      <th>noise</th>\n      <th>extant</th>\n      <th>standing</th>\n      <th>waiting</th>\n    </tr>\n  </thead>\n  <tbody>\n    <tr>\n      <th>19th</th>\n      <td>0.000000</td>\n      <td>0.000000</td>\n      <td>0.000000</td>\n      <td>0.000000</td>\n      <td>0.000000</td>\n      <td>0.000000</td>\n      <td>0.000000</td>\n      <td>0.000000</td>\n      <td>0.000000</td>\n      <td>0.000000</td>\n      <td>...</td>\n      <td>0.00063</td>\n      <td>0.000000</td>\n      <td>0.000000</td>\n      <td>0.000717</td>\n      <td>0.000000</td>\n      <td>0.00063</td>\n      <td>0.00063</td>\n      <td>0.000000</td>\n      <td>0.001259</td>\n      <td>0.00063</td>\n    </tr>\n    <tr>\n      <th>20th</th>\n      <td>0.000000</td>\n      <td>0.000000</td>\n      <td>0.000000</td>\n      <td>0.000000</td>\n      <td>0.000000</td>\n      <td>0.000000</td>\n      <td>0.000000</td>\n      <td>0.000000</td>\n      <td>0.000000</td>\n      <td>0.000000</td>\n      <td>...</td>\n      <td>0.00000</td>\n      <td>0.000000</td>\n      <td>0.000000</td>\n      <td>0.001493</td>\n      <td>0.001311</td>\n      <td>0.00000</td>\n      <td>0.00000</td>\n      <td>0.001311</td>\n      <td>0.000000</td>\n      <td>0.00000</td>\n    </tr>\n    <tr>\n      <th>article1</th>\n      <td>0.027959</td>\n      <td>0.016775</td>\n      <td>0.011184</td>\n      <td>0.011184</td>\n      <td>0.008388</td>\n      <td>0.008388</td>\n      <td>0.008388</td>\n      <td>0.008388</td>\n      <td>0.008388</td>\n      <td>0.008388</td>\n      <td>...</td>\n      <td>0.00000</td>\n      <td>0.000000</td>\n      <td>0.000000</td>\n      <td>0.000000</td>\n      <td>0.000000</td>\n      <td>0.00000</td>\n      <td>0.00000</td>\n      <td>0.000000</td>\n      <td>0.000000</td>\n      <td>0.00000</td>\n    </tr>\n    <tr>\n      <th>scientific</th>\n      <td>0.000000</td>\n      <td>0.000000</td>\n      <td>0.000000</td>\n      <td>0.000000</td>\n      <td>0.000000</td>\n      <td>0.000000</td>\n      <td>0.000000</td>\n      <td>0.000000</td>\n      <td>0.000000</td>\n      <td>0.000000</td>\n      <td>...</td>\n      <td>0.00000</td>\n      <td>0.000000</td>\n      <td>0.011213</td>\n      <td>0.000000</td>\n      <td>0.000000</td>\n      <td>0.00000</td>\n      <td>0.00000</td>\n      <td>0.000000</td>\n      <td>0.000000</td>\n      <td>0.00000</td>\n    </tr>\n    <tr>\n      <th>article2</th>\n      <td>0.000000</td>\n      <td>0.000000</td>\n      <td>0.000000</td>\n      <td>0.000000</td>\n      <td>0.000000</td>\n      <td>0.000000</td>\n      <td>0.000000</td>\n      <td>0.000000</td>\n      <td>0.000000</td>\n      <td>0.000000</td>\n      <td>...</td>\n      <td>0.00000</td>\n      <td>0.004524</td>\n      <td>0.000000</td>\n      <td>0.000000</td>\n      <td>0.000000</td>\n      <td>0.00000</td>\n      <td>0.00000</td>\n      <td>0.000000</td>\n      <td>0.000000</td>\n      <td>0.00000</td>\n    </tr>\n  </tbody>\n</table>\n<p>5 rows × 1331 columns</p>\n</div>"
     },
     "metadata": {},
     "output_type": "display_data"
    },
    {
     "data": {
      "text/plain": "'scientific'"
     },
     "metadata": {},
     "output_type": "display_data"
    },
    {
     "data": {
      "text/plain": "               euler  characteristic    figure         e   figures     holes  \\\n19th        0.000000        0.000000  0.000359  0.000000  0.000000  0.000000   \n20th        0.000000        0.000000  0.000000  0.000000  0.000000  0.000000   \narticle1    0.000000        0.000000  0.000000  0.000000  0.000000  0.000000   \nscientific  0.044854        0.041116  0.019152  0.014951  0.011213  0.011213   \narticle2    0.000000        0.000000  0.000000  0.000000  0.000000  0.000000   \n\n              number         f      also  removing  ...  responsibly  \\\n19th        0.000359  0.000000  0.000000  0.000000  ...     0.000000   \n20th        0.000000  0.000000  0.000000  0.000000  ...     0.000000   \narticle1    0.000000  0.000000  0.000000  0.000000  ...     0.002796   \nscientific  0.010640  0.007476  0.007476  0.007476  ...     0.000000   \narticle2    0.000000  0.000000  0.000000  0.000000  ...     0.000000   \n\n               white     bays     rush  concepts       etc      risk  \\\n19th        0.002151  0.00063  0.00063  0.000000  0.000000  0.000000   \n20th        0.000747  0.00000  0.00000  0.000000  0.000000  0.000000   \narticle1    0.000000  0.00000  0.00000  0.000000  0.000000  0.000000   \nscientific  0.000000  0.00000  0.00000  0.000000  0.000000  0.000000   \narticle2    0.000000  0.00000  0.00000  0.002262  0.004524  0.002262   \n\n             suppose  polished  waiting  \n19th        0.000000  0.001259  0.00063  \n20th        0.000000  0.000000  0.00000  \narticle1    0.000000  0.000000  0.00000  \nscientific  0.000000  0.000000  0.00000  \narticle2    0.002262  0.000000  0.00000  \n\n[5 rows x 1331 columns]",
      "text/html": "<div>\n<style scoped>\n    .dataframe tbody tr th:only-of-type {\n        vertical-align: middle;\n    }\n\n    .dataframe tbody tr th {\n        vertical-align: top;\n    }\n\n    .dataframe thead th {\n        text-align: right;\n    }\n</style>\n<table border=\"1\" class=\"dataframe\">\n  <thead>\n    <tr style=\"text-align: right;\">\n      <th></th>\n      <th>euler</th>\n      <th>characteristic</th>\n      <th>figure</th>\n      <th>e</th>\n      <th>figures</th>\n      <th>holes</th>\n      <th>number</th>\n      <th>f</th>\n      <th>also</th>\n      <th>removing</th>\n      <th>...</th>\n      <th>responsibly</th>\n      <th>white</th>\n      <th>bays</th>\n      <th>rush</th>\n      <th>concepts</th>\n      <th>etc</th>\n      <th>risk</th>\n      <th>suppose</th>\n      <th>polished</th>\n      <th>waiting</th>\n    </tr>\n  </thead>\n  <tbody>\n    <tr>\n      <th>19th</th>\n      <td>0.000000</td>\n      <td>0.000000</td>\n      <td>0.000359</td>\n      <td>0.000000</td>\n      <td>0.000000</td>\n      <td>0.000000</td>\n      <td>0.000359</td>\n      <td>0.000000</td>\n      <td>0.000000</td>\n      <td>0.000000</td>\n      <td>...</td>\n      <td>0.000000</td>\n      <td>0.002151</td>\n      <td>0.00063</td>\n      <td>0.00063</td>\n      <td>0.000000</td>\n      <td>0.000000</td>\n      <td>0.000000</td>\n      <td>0.000000</td>\n      <td>0.001259</td>\n      <td>0.00063</td>\n    </tr>\n    <tr>\n      <th>20th</th>\n      <td>0.000000</td>\n      <td>0.000000</td>\n      <td>0.000000</td>\n      <td>0.000000</td>\n      <td>0.000000</td>\n      <td>0.000000</td>\n      <td>0.000000</td>\n      <td>0.000000</td>\n      <td>0.000000</td>\n      <td>0.000000</td>\n      <td>...</td>\n      <td>0.000000</td>\n      <td>0.000747</td>\n      <td>0.00000</td>\n      <td>0.00000</td>\n      <td>0.000000</td>\n      <td>0.000000</td>\n      <td>0.000000</td>\n      <td>0.000000</td>\n      <td>0.000000</td>\n      <td>0.00000</td>\n    </tr>\n    <tr>\n      <th>article1</th>\n      <td>0.000000</td>\n      <td>0.000000</td>\n      <td>0.000000</td>\n      <td>0.000000</td>\n      <td>0.000000</td>\n      <td>0.000000</td>\n      <td>0.000000</td>\n      <td>0.000000</td>\n      <td>0.000000</td>\n      <td>0.000000</td>\n      <td>...</td>\n      <td>0.002796</td>\n      <td>0.000000</td>\n      <td>0.00000</td>\n      <td>0.00000</td>\n      <td>0.000000</td>\n      <td>0.000000</td>\n      <td>0.000000</td>\n      <td>0.000000</td>\n      <td>0.000000</td>\n      <td>0.00000</td>\n    </tr>\n    <tr>\n      <th>scientific</th>\n      <td>0.044854</td>\n      <td>0.041116</td>\n      <td>0.019152</td>\n      <td>0.014951</td>\n      <td>0.011213</td>\n      <td>0.011213</td>\n      <td>0.010640</td>\n      <td>0.007476</td>\n      <td>0.007476</td>\n      <td>0.007476</td>\n      <td>...</td>\n      <td>0.000000</td>\n      <td>0.000000</td>\n      <td>0.00000</td>\n      <td>0.00000</td>\n      <td>0.000000</td>\n      <td>0.000000</td>\n      <td>0.000000</td>\n      <td>0.000000</td>\n      <td>0.000000</td>\n      <td>0.00000</td>\n    </tr>\n    <tr>\n      <th>article2</th>\n      <td>0.000000</td>\n      <td>0.000000</td>\n      <td>0.000000</td>\n      <td>0.000000</td>\n      <td>0.000000</td>\n      <td>0.000000</td>\n      <td>0.000000</td>\n      <td>0.000000</td>\n      <td>0.000000</td>\n      <td>0.000000</td>\n      <td>...</td>\n      <td>0.000000</td>\n      <td>0.000000</td>\n      <td>0.00000</td>\n      <td>0.00000</td>\n      <td>0.002262</td>\n      <td>0.004524</td>\n      <td>0.002262</td>\n      <td>0.002262</td>\n      <td>0.000000</td>\n      <td>0.00000</td>\n    </tr>\n  </tbody>\n</table>\n<p>5 rows × 1331 columns</p>\n</div>"
     },
     "metadata": {},
     "output_type": "display_data"
    },
    {
     "data": {
      "text/plain": "'article2'"
     },
     "metadata": {},
     "output_type": "display_data"
    },
    {
     "data": {
      "text/plain": "             jenkins  pipeline  continuous  delivery  software      jobs  \\\n19th        0.000000  0.000000    0.000000  0.000000   0.00000  0.000000   \n20th        0.000000  0.000000    0.000000  0.000000   0.00000  0.000000   \narticle1    0.000000  0.000000    0.000000  0.000000   0.00000  0.000000   \nscientific  0.000000  0.000000    0.000000  0.000000   0.00000  0.000000   \narticle2    0.056551  0.052027    0.031669  0.024882   0.02262  0.015834   \n\n               build  workflow  understand   feature  ...    extant  standing  \\\n19th        0.000359  0.000000    0.000000  0.000000  ...  0.000000  0.001259   \n20th        0.000000  0.000000    0.000000  0.000000  ...  0.001311  0.000000   \narticle1    0.000000  0.000000    0.000000  0.000000  ...  0.000000  0.000000   \nscientific  0.000000  0.000000    0.000000  0.000000  ...  0.000000  0.000000   \narticle2    0.010303  0.009048    0.006786  0.006786  ...  0.000000  0.000000   \n\n              native     sound      dear     doll  cleaning    passed  \\\n19th        0.000000  0.002519  0.000000  0.00063  0.000000  0.000000   \n20th        0.000000  0.000000  0.007868  0.00000  0.000000  0.001311   \narticle1    0.002796  0.000000  0.000000  0.00000  0.002796  0.000000   \nscientific  0.000000  0.000000  0.000000  0.00000  0.000000  0.000000   \narticle2    0.000000  0.000000  0.000000  0.00000  0.000000  0.000000   \n\n            fingernails  waiting  \n19th            0.00063  0.00063  \n20th            0.00000  0.00000  \narticle1        0.00000  0.00000  \nscientific      0.00000  0.00000  \narticle2        0.00000  0.00000  \n\n[5 rows x 1331 columns]",
      "text/html": "<div>\n<style scoped>\n    .dataframe tbody tr th:only-of-type {\n        vertical-align: middle;\n    }\n\n    .dataframe tbody tr th {\n        vertical-align: top;\n    }\n\n    .dataframe thead th {\n        text-align: right;\n    }\n</style>\n<table border=\"1\" class=\"dataframe\">\n  <thead>\n    <tr style=\"text-align: right;\">\n      <th></th>\n      <th>jenkins</th>\n      <th>pipeline</th>\n      <th>continuous</th>\n      <th>delivery</th>\n      <th>software</th>\n      <th>jobs</th>\n      <th>build</th>\n      <th>workflow</th>\n      <th>understand</th>\n      <th>feature</th>\n      <th>...</th>\n      <th>extant</th>\n      <th>standing</th>\n      <th>native</th>\n      <th>sound</th>\n      <th>dear</th>\n      <th>doll</th>\n      <th>cleaning</th>\n      <th>passed</th>\n      <th>fingernails</th>\n      <th>waiting</th>\n    </tr>\n  </thead>\n  <tbody>\n    <tr>\n      <th>19th</th>\n      <td>0.000000</td>\n      <td>0.000000</td>\n      <td>0.000000</td>\n      <td>0.000000</td>\n      <td>0.00000</td>\n      <td>0.000000</td>\n      <td>0.000359</td>\n      <td>0.000000</td>\n      <td>0.000000</td>\n      <td>0.000000</td>\n      <td>...</td>\n      <td>0.000000</td>\n      <td>0.001259</td>\n      <td>0.000000</td>\n      <td>0.002519</td>\n      <td>0.000000</td>\n      <td>0.00063</td>\n      <td>0.000000</td>\n      <td>0.000000</td>\n      <td>0.00063</td>\n      <td>0.00063</td>\n    </tr>\n    <tr>\n      <th>20th</th>\n      <td>0.000000</td>\n      <td>0.000000</td>\n      <td>0.000000</td>\n      <td>0.000000</td>\n      <td>0.00000</td>\n      <td>0.000000</td>\n      <td>0.000000</td>\n      <td>0.000000</td>\n      <td>0.000000</td>\n      <td>0.000000</td>\n      <td>...</td>\n      <td>0.001311</td>\n      <td>0.000000</td>\n      <td>0.000000</td>\n      <td>0.000000</td>\n      <td>0.007868</td>\n      <td>0.00000</td>\n      <td>0.000000</td>\n      <td>0.001311</td>\n      <td>0.00000</td>\n      <td>0.00000</td>\n    </tr>\n    <tr>\n      <th>article1</th>\n      <td>0.000000</td>\n      <td>0.000000</td>\n      <td>0.000000</td>\n      <td>0.000000</td>\n      <td>0.00000</td>\n      <td>0.000000</td>\n      <td>0.000000</td>\n      <td>0.000000</td>\n      <td>0.000000</td>\n      <td>0.000000</td>\n      <td>...</td>\n      <td>0.000000</td>\n      <td>0.000000</td>\n      <td>0.002796</td>\n      <td>0.000000</td>\n      <td>0.000000</td>\n      <td>0.00000</td>\n      <td>0.002796</td>\n      <td>0.000000</td>\n      <td>0.00000</td>\n      <td>0.00000</td>\n    </tr>\n    <tr>\n      <th>scientific</th>\n      <td>0.000000</td>\n      <td>0.000000</td>\n      <td>0.000000</td>\n      <td>0.000000</td>\n      <td>0.00000</td>\n      <td>0.000000</td>\n      <td>0.000000</td>\n      <td>0.000000</td>\n      <td>0.000000</td>\n      <td>0.000000</td>\n      <td>...</td>\n      <td>0.000000</td>\n      <td>0.000000</td>\n      <td>0.000000</td>\n      <td>0.000000</td>\n      <td>0.000000</td>\n      <td>0.00000</td>\n      <td>0.000000</td>\n      <td>0.000000</td>\n      <td>0.00000</td>\n      <td>0.00000</td>\n    </tr>\n    <tr>\n      <th>article2</th>\n      <td>0.056551</td>\n      <td>0.052027</td>\n      <td>0.031669</td>\n      <td>0.024882</td>\n      <td>0.02262</td>\n      <td>0.015834</td>\n      <td>0.010303</td>\n      <td>0.009048</td>\n      <td>0.006786</td>\n      <td>0.006786</td>\n      <td>...</td>\n      <td>0.000000</td>\n      <td>0.000000</td>\n      <td>0.000000</td>\n      <td>0.000000</td>\n      <td>0.000000</td>\n      <td>0.00000</td>\n      <td>0.000000</td>\n      <td>0.000000</td>\n      <td>0.00000</td>\n      <td>0.00000</td>\n    </tr>\n  </tbody>\n</table>\n<p>5 rows × 1331 columns</p>\n</div>"
     },
     "metadata": {},
     "output_type": "display_data"
    }
   ],
   "source": [
    "article_names = ('19th', '20th', 'article1', 'scientific', 'article2')\n",
    "df = pd.DataFrame(tf_idf_bows, index=article_names)\n",
    "\n",
    "for article_name in article_names:\n",
    "    article_df = df.sort_values(by=article_name, axis=1, ascending=False)\n",
    "    display(article_name, article_df)"
   ],
   "metadata": {
    "collapsed": false,
    "pycharm": {
     "name": "#%%\n"
    }
   }
  },
  {
   "cell_type": "code",
   "execution_count": 164,
   "metadata": {},
   "outputs": [],
   "source": []
  }
 ],
 "metadata": {
  "kernelspec": {
   "display_name": "Python 3",
   "language": "python",
   "name": "python3"
  },
  "language_info": {
   "codemirror_mode": {
    "name": "ipython",
    "version": 3
   },
   "file_extension": ".py",
   "mimetype": "text/x-python",
   "name": "python",
   "nbconvert_exporter": "python",
   "pygments_lexer": "ipython3",
   "version": "3.8.3"
  }
 },
 "nbformat": 4,
 "nbformat_minor": 4
}